{
 "cells": [
  {
   "cell_type": "markdown",
   "metadata": {},
   "source": [
    "# File/Folder Path and Metadata"
   ]
  },
  {
   "cell_type": "markdown",
   "metadata": {},
   "source": [
    "The RNA-seq data for Swi-Snf project where LNCaP and MR49F cells treated with sgNT, sgAR, sgSMARCC2-v1, or sgSMARCC2-v2. \n",
    "\n",
    "- RNA-seq experiment: Bengul Gokbayrak\n",
    "- Bioinformatics: Umut Berkay Altintas\n",
    "\n",
    "- Raw Data Location: `/groups/lackgrp/raw_data/SWIR/`\n",
    "- Meta Data Location: `/groups/lackgrp/projects/req-bengul-SEP23/meta/RNAseq-meta.tsv`\n",
    "\n",
    "The ChIP-seq data for Swi-Snf project where BRG1 and SMARCC2 targetted in LNCaP and MR49F \n",
    "\n",
    "_Note: We have 2 separate batches for MR49F samples (along with Shreyas ATAC). Therefore, I will merge MR49F FASTQ._\n",
    "\n",
    "- ChIP-seq experiment: Bengul Gokbayrak\n",
    "- Bioinformatics: Umut Berkay Altintas\n",
    "\n",
    "- Raw Data Location: `/groups/lackgrp/raw_data/SWIC/`\n",
    "- Meta Data Location: `/groups/lackgrp/projects/req-bengul-SEP23/meta/ChIPseq-meta.tsv`\n"
   ]
  },
  {
   "cell_type": "markdown",
   "metadata": {},
   "source": [
    "# Fetch the pipelines\n",
    "\n",
    "*#TODO: Dependencies!*\n",
    "\n",
    "```\n",
    "git clone https://github.com/lacklab/rnaseq-pipeline.git\n",
    "git clone https://github.com/lacklab/chipseq_pipeline.git\n",
    "```"
   ]
  },
  {
   "cell_type": "markdown",
   "metadata": {},
   "source": [
    "# RNA-seq pipeline\n",
    "This process: \n",
    "- trims (cutadapt)\n",
    "- maps (STAR) to hg38 refseq\n",
    "- quantifies (salmon)\n",
    "\n",
    "Modify: \n",
    "- `/groups/lackgrp/projects/req-bengul-SEP23/rnaseq-pipeline/config/config.yaml`\n",
    "- `/groups/lackgrp/projects/req-bengul-SEP23/rnaseq_pipeline/config/units.tsv`\n",
    "- `/groups/lackgrp/projects/req-bengul-SEP23/rnaseq_pipeline/config/samples.tsv`\n",
    "\n",
    "You should go into the folder and run snakemake\n",
    "\n",
    "```\n",
    "cd rnaseq-pipeline && sbatch run_snakemake.sh\n",
    "```"
   ]
  },
  {
   "cell_type": "markdown",
   "metadata": {},
   "source": [
    "# ChIP-seq pipeline"
   ]
  },
  {
   "cell_type": "markdown",
   "metadata": {},
   "source": [
    "This process:\n",
    "- maps (BWA)\n",
    "- filter MAPQ | duplicates (samtools)\n",
    "- generate bw (bedtools genomecov : RPM | rawcount)\n",
    "- call peaks (macs3)\n",
    "\n",
    "Modify:  \n",
    "- `/groups/lackgrp/projects/req-bengul-SEP23/chipseq-pipeline/config/config.yaml`\n",
    "- `/groups/lackgrp/projects/req-bengul-SEP23/chipseq_pipeline/config/units.tsv`\n",
    "- `/groups/lackgrp/projects/req-bengul-SEP23/chipseq_pipeline/config/samples.tsv`\n",
    "\n",
    "You should go into the folder and run snakemake\n",
    "\n",
    "```\n",
    "cd chipseq_pipeline && sbatch run_snakemake.sh\n",
    "```"
   ]
  }
 ],
 "metadata": {
  "kernelspec": {
   "display_name": "chipseq",
   "language": "python",
   "name": "python3"
  },
  "language_info": {
   "codemirror_mode": {
    "name": "ipython",
    "version": 3
   },
   "file_extension": ".py",
   "mimetype": "text/x-python",
   "name": "python",
   "nbconvert_exporter": "python",
   "pygments_lexer": "ipython3",
   "version": "3.9.15"
  },
  "orig_nbformat": 4
 },
 "nbformat": 4,
 "nbformat_minor": 2
}
