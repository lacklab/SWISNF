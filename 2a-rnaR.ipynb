{
 "cells": [
  {
   "cell_type": "markdown",
   "metadata": {},
   "source": [
    "# Differential Expression Analysis with DEseq2\n",
    "We have quantified the transcript expression using `Salmon` which "
   ]
  },
  {
   "cell_type": "code",
   "execution_count": 21,
   "metadata": {
    "vscode": {
     "languageId": "r"
    }
   },
   "outputs": [
    {
     "name": "stderr",
     "output_type": "stream",
     "text": [
      "Import genomic features from the file as a GRanges object ... \n",
      "OK\n",
      "\n",
      "Prepare the 'metadata' data frame ... \n",
      "OK\n",
      "\n",
      "Make the TxDb object ... \n",
      "OK\n",
      "\n",
      "'select()' returned 1:1 mapping between keys and columns\n",
      "\n"
     ]
    }
   ],
   "source": [
    "\n",
    "#.libPaths('/home/ualtintas/miniconda3/envs/notebook/lib/R/library')\n",
    "options(warn=-1)\n",
    "options(repr.matrix.max.cols=100, repr.matrix.max.rows=10)\n",
    "\n",
    "library(DESeq2)\n",
    "library(edgeR)\n",
    "library(tximport)\n",
    "library(apeglm)\n",
    "library(GenomicFeatures)\n",
    "\n",
    "\n",
    "txdb <- makeTxDbFromGFF(file=\"/groups/lackgrp/genomeAnnotations/hg38/hg38.ncbiRefSeq.simple.gtf\")\n",
    "k <- keys(txdb, keytype = \"TXNAME\")\n",
    "tx2gene <- select(txdb, k, \"GENEID\", \"TXNAME\") "
   ]
  },
  {
   "cell_type": "code",
   "execution_count": 35,
   "metadata": {
    "vscode": {
     "languageId": "r"
    }
   },
   "outputs": [],
   "source": [
    "fns = list.files(\"rnaseq-pipeline/results_hg38/salmon\", \n",
    "                 pattern = \"quant.sf\", recursive = T, full.names = T)\n",
    "\n",
    "names(fns) = basename(dirname(fns))\n",
    "\n",
    "metaDataFile = \"data/rna/metadata.tsv\"\n",
    "metaData = read.table(metaDataFile,header=TRUE)"
   ]
  },
  {
   "cell_type": "code",
   "execution_count": null,
   "metadata": {
    "vscode": {
     "languageId": "r"
    }
   },
   "outputs": [],
   "source": []
  },
  {
   "cell_type": "code",
   "execution_count": 3,
   "metadata": {
    "vscode": {
     "languageId": "r"
    }
   },
   "outputs": [
    {
     "name": "stderr",
     "output_type": "stream",
     "text": [
      "reading in files with read_tsv\n",
      "\n",
      "1 \n",
      "2 \n",
      "3 \n",
      "4 \n",
      "5 \n",
      "6 \n",
      "\n",
      "\n",
      "summarizing abundance\n",
      "\n",
      "summarizing counts\n",
      "\n",
      "summarizing length\n",
      "\n",
      "using counts and average transcript lengths from tximport\n",
      "\n",
      "estimating size factors\n",
      "\n",
      "using 'avgTxLength' from assays(dds), correcting for library size\n",
      "\n",
      "estimating dispersions\n",
      "\n",
      "gene-wise dispersion estimates\n",
      "\n",
      "mean-dispersion relationship\n",
      "\n",
      "-- note: fitType='parametric', but the dispersion trend was not well captured by the\n",
      "   function: y = a/x + b, and a local regression fit was automatically substituted.\n",
      "   specify fitType='local' or 'mean' to avoid this message next time.\n",
      "\n",
      "final dispersion estimates\n",
      "\n",
      "fitting model and testing\n",
      "\n",
      "3 rows did not converge in beta, labelled in mcols(object)$betaConv. Use larger maxit argument with nbinomWaldTest\n",
      "\n",
      "using 'apeglm' for LFC shrinkage. If used in published research, please cite:\n",
      "    Zhu, A., Ibrahim, J.G., Love, M.I. (2018) Heavy-tailed prior distributions for\n",
      "    sequence count data: removing the noise and preserving large differences.\n",
      "    Bioinformatics. https://doi.org/10.1093/bioinformatics/bty895\n",
      "\n"
     ]
    },
    {
     "name": "stdout",
     "output_type": "stream",
     "text": [
      "\n",
      "out of 19016 with nonzero total read count\n",
      "adjusted p-value < 0.1\n",
      "LFC > 0 (up)       : 2482, 13%\n",
      "LFC < 0 (down)     : 2421, 13%\n",
      "outliers [1]       : 5, 0.026%\n",
      "low counts [2]     : 2212, 12%\n",
      "(mean count < 4)\n",
      "[1] see 'cooksCutoff' argument of ?results\n",
      "[2] see 'independentFiltering' argument of ?results\n",
      "\n"
     ]
    }
   ],
   "source": [
    "\n",
    "idx = (metaData$Target %in% c('NT', 'AR')) & (metaData$Dataset == 'BG')\n",
    "\n",
    "txi = tximport(fns[idx], type = \"salmon\",tx2gene = tx2gene)\n",
    "\n",
    "dds <- DESeqDataSetFromTximport(txi, metaData[idx,], ~Target)\n",
    "\n",
    "keep <- rowSums(counts(dds)) >= 10\n",
    "dds <- dds[keep,]\n",
    "\n",
    "dds$Target = relevel(dds$Target, ref = \"NT\")\n",
    "\n",
    "dds$Target <- droplevels(dds$Target)\n",
    "\n",
    "dds <- DESeq(dds)\n",
    "\n",
    "resLFC = lfcShrink(dds, coef=\"Target_AR_vs_NT\",type=\"apeglm\")\n",
    "summary(resLFC)\n",
    "\n",
    "\n",
    "write.table(file=\"data/rna/deg/AR.tsv\", x=as.data.frame(resLFC), sep=\"\\t\", quote = FALSE)"
   ]
  },
  {
   "cell_type": "code",
   "execution_count": 4,
   "metadata": {
    "vscode": {
     "languageId": "r"
    }
   },
   "outputs": [
    {
     "name": "stderr",
     "output_type": "stream",
     "text": [
      "reading in files with read_tsv\n",
      "\n",
      "1 \n",
      "2 \n",
      "3 \n",
      "4 \n",
      "5 \n",
      "6 \n",
      "\n",
      "\n",
      "summarizing abundance\n",
      "\n",
      "summarizing counts\n",
      "\n",
      "summarizing length\n",
      "\n",
      "using counts and average transcript lengths from tximport\n",
      "\n",
      "estimating size factors\n",
      "\n",
      "using 'avgTxLength' from assays(dds), correcting for library size\n",
      "\n",
      "estimating dispersions\n",
      "\n",
      "gene-wise dispersion estimates\n",
      "\n",
      "mean-dispersion relationship\n",
      "\n",
      "-- note: fitType='parametric', but the dispersion trend was not well captured by the\n",
      "   function: y = a/x + b, and a local regression fit was automatically substituted.\n",
      "   specify fitType='local' or 'mean' to avoid this message next time.\n",
      "\n",
      "final dispersion estimates\n",
      "\n",
      "fitting model and testing\n",
      "\n",
      "6 rows did not converge in beta, labelled in mcols(object)$betaConv. Use larger maxit argument with nbinomWaldTest\n",
      "\n",
      "using 'apeglm' for LFC shrinkage. If used in published research, please cite:\n",
      "    Zhu, A., Ibrahim, J.G., Love, M.I. (2018) Heavy-tailed prior distributions for\n",
      "    sequence count data: removing the noise and preserving large differences.\n",
      "    Bioinformatics. https://doi.org/10.1093/bioinformatics/bty895\n",
      "\n"
     ]
    },
    {
     "name": "stdout",
     "output_type": "stream",
     "text": [
      "\n",
      "out of 18926 with nonzero total read count\n",
      "adjusted p-value < 0.1\n",
      "LFC > 0 (up)       : 671, 3.5%\n",
      "LFC < 0 (down)     : 559, 3%\n",
      "outliers [1]       : 8, 0.042%\n",
      "low counts [2]     : 3670, 19%\n",
      "(mean count < 8)\n",
      "[1] see 'cooksCutoff' argument of ?results\n",
      "[2] see 'independentFiltering' argument of ?results\n",
      "\n"
     ]
    }
   ],
   "source": [
    "\n",
    "idx = (metaData$Target %in% c('NT', 'SMARCC2sg1'))\n",
    "\n",
    "txi = tximport(fns[idx], type = \"salmon\",tx2gene = tx2gene)\n",
    "\n",
    "dds <- DESeqDataSetFromTximport(txi, metaData[idx,], ~Target)\n",
    "\n",
    "keep <- rowSums(counts(dds)) >= 10\n",
    "dds <- dds[keep,]\n",
    "\n",
    "dds$Target = relevel(dds$Target, ref = \"NT\")\n",
    "\n",
    "dds$Target <- droplevels(dds$Target)\n",
    "\n",
    "dds <- DESeq(dds)\n",
    "\n",
    "resLFC = lfcShrink(dds, coef=\"Target_SMARCC2sg1_vs_NT\",type=\"apeglm\")\n",
    "summary(resLFC)\n",
    "\n",
    "\n",
    "write.table(file=\"data/rna/deg/SMARCC2sg1.tsv\", x=as.data.frame(resLFC), sep=\"\\t\", quote = FALSE)"
   ]
  },
  {
   "cell_type": "code",
   "execution_count": 14,
   "metadata": {
    "vscode": {
     "languageId": "r"
    }
   },
   "outputs": [
    {
     "name": "stderr",
     "output_type": "stream",
     "text": [
      "reading in files with read_tsv\n",
      "\n",
      "1 \n"
     ]
    },
    {
     "name": "stderr",
     "output_type": "stream",
     "text": [
      "2 \n",
      "3 \n",
      "4 \n",
      "5 \n",
      "6 \n",
      "\n",
      "\n",
      "summarizing abundance\n",
      "\n",
      "summarizing counts\n",
      "\n",
      "summarizing length\n",
      "\n",
      "using counts and average transcript lengths from tximport\n",
      "\n",
      "estimating size factors\n",
      "\n",
      "using 'avgTxLength' from assays(dds), correcting for library size\n",
      "\n",
      "estimating dispersions\n",
      "\n",
      "gene-wise dispersion estimates\n",
      "\n",
      "mean-dispersion relationship\n",
      "\n",
      "-- note: fitType='parametric', but the dispersion trend was not well captured by the\n",
      "   function: y = a/x + b, and a local regression fit was automatically substituted.\n",
      "   specify fitType='local' or 'mean' to avoid this message next time.\n",
      "\n",
      "final dispersion estimates\n",
      "\n",
      "fitting model and testing\n",
      "\n",
      "5 rows did not converge in beta, labelled in mcols(object)$betaConv. Use larger maxit argument with nbinomWaldTest\n",
      "\n",
      "using 'apeglm' for LFC shrinkage. If used in published research, please cite:\n",
      "    Zhu, A., Ibrahim, J.G., Love, M.I. (2018) Heavy-tailed prior distributions for\n",
      "    sequence count data: removing the noise and preserving large differences.\n",
      "    Bioinformatics. https://doi.org/10.1093/bioinformatics/bty895\n",
      "\n"
     ]
    },
    {
     "name": "stdout",
     "output_type": "stream",
     "text": [
      "\n",
      "out of 18944 with nonzero total read count\n",
      "adjusted p-value < 0.1\n",
      "LFC > 0 (up)       : 595, 3.1%\n",
      "LFC < 0 (down)     : 562, 3%\n",
      "outliers [1]       : 6, 0.032%\n",
      "low counts [2]     : 4407, 23%\n",
      "(mean count < 12)\n",
      "[1] see 'cooksCutoff' argument of ?results\n",
      "[2] see 'independentFiltering' argument of ?results\n",
      "\n"
     ]
    }
   ],
   "source": [
    "\n",
    "idx = (metaData$Target %in% c('NT', 'SMARCC2sg2'))\n",
    "\n",
    "txi = tximport(fns[idx], type = \"salmon\",tx2gene = tx2gene)\n",
    "\n",
    "dds <- DESeqDataSetFromTximport(txi, metaData[idx,], ~Target)\n",
    "\n",
    "keep <- rowSums(counts(dds)) >= 10\n",
    "dds <- dds[keep,]\n",
    "\n",
    "dds$Target = relevel(dds$Target, ref = \"NT\")\n",
    "\n",
    "dds$Target <- droplevels(dds$Target)\n",
    "\n",
    "dds <- DESeq(dds)\n",
    "\n",
    "resLFC = lfcShrink(dds, coef=\"Target_SMARCC2sg2_vs_NT\",type=\"apeglm\")\n",
    "summary(resLFC)\n",
    "\n",
    "\n",
    "write.table(file=\"data/rna/deg/SMARCC2sg2.tsv\", x=as.data.frame(resLFC), sep=\"\\t\", quote = FALSE)"
   ]
  },
  {
   "cell_type": "code",
   "execution_count": 24,
   "metadata": {
    "vscode": {
     "languageId": "r"
    }
   },
   "outputs": [
    {
     "name": "stderr",
     "output_type": "stream",
     "text": [
      "reading in files with read_tsv\n",
      "\n",
      "1 \n",
      "2 \n",
      "3 \n",
      "4 \n",
      "5 \n",
      "6 \n",
      "\n",
      "\n",
      "summarizing abundance\n",
      "\n",
      "summarizing counts\n",
      "\n",
      "summarizing length\n",
      "\n",
      "using counts and average transcript lengths from tximport\n",
      "\n",
      "estimating size factors\n",
      "\n",
      "using 'avgTxLength' from assays(dds), correcting for library size\n",
      "\n",
      "estimating dispersions\n",
      "\n",
      "gene-wise dispersion estimates\n",
      "\n",
      "mean-dispersion relationship\n",
      "\n",
      "-- note: fitType='parametric', but the dispersion trend was not well captured by the\n",
      "   function: y = a/x + b, and a local regression fit was automatically substituted.\n",
      "   specify fitType='local' or 'mean' to avoid this message next time.\n",
      "\n",
      "final dispersion estimates\n",
      "\n",
      "fitting model and testing\n",
      "\n",
      "8 rows did not converge in beta, labelled in mcols(object)$betaConv. Use larger maxit argument with nbinomWaldTest\n",
      "\n",
      "using 'apeglm' for LFC shrinkage. If used in published research, please cite:\n",
      "    Zhu, A., Ibrahim, J.G., Love, M.I. (2018) Heavy-tailed prior distributions for\n",
      "    sequence count data: removing the noise and preserving large differences.\n",
      "    Bioinformatics. https://doi.org/10.1093/bioinformatics/bty895\n",
      "\n"
     ]
    },
    {
     "name": "stdout",
     "output_type": "stream",
     "text": [
      "\n",
      "out of 16622 with nonzero total read count\n",
      "adjusted p-value < 0.1\n",
      "LFC > 0 (up)       : 4148, 25%\n",
      "LFC < 0 (down)     : 4043, 24%\n",
      "outliers [1]       : 4, 0.024%\n",
      "low counts [2]     : 0, 0%\n",
      "(mean count < 1)\n",
      "[1] see 'cooksCutoff' argument of ?results\n",
      "[2] see 'independentFiltering' argument of ?results\n",
      "\n"
     ]
    }
   ],
   "source": [
    "\n",
    "idx = (metaData$Target %in% c('LNCaP', 'MR49F')) & (metaData$Dataset == 'GSE123379')\n",
    "\n",
    "txi = tximport(fns[idx], type = \"salmon\",tx2gene = tx2gene)\n",
    "\n",
    "dds <- DESeqDataSetFromTximport(txi, metaData[idx,], ~Target)\n",
    "\n",
    "keep <- rowSums(counts(dds)) >= 10\n",
    "dds <- dds[keep,]\n",
    "\n",
    "dds$Target = relevel(dds$Target, ref = \"LNCaP\")\n",
    "\n",
    "dds$Target <- droplevels(dds$Target)\n",
    "\n",
    "dds <- DESeq(dds)\n",
    "\n",
    "resLFC = lfcShrink(dds, coef=\"Target_MR49F_vs_LNCaP\",type=\"apeglm\")\n",
    "summary(resLFC)\n",
    "\n",
    "\n",
    "write.table(file=\"data/rna/deg/GSE123379.tsv\", x=as.data.frame(resLFC), sep=\"\\t\", quote = FALSE)"
   ]
  },
  {
   "cell_type": "code",
   "execution_count": 34,
   "metadata": {
    "vscode": {
     "languageId": "r"
    }
   },
   "outputs": [
    {
     "name": "stderr",
     "output_type": "stream",
     "text": [
      "reading in files with read_tsv\n",
      "\n",
      "1 \n",
      "2 \n",
      "3 \n",
      "4 \n",
      "\n",
      "\n",
      "summarizing abundance\n",
      "\n",
      "summarizing counts\n",
      "\n",
      "summarizing length\n",
      "\n",
      "using counts and average transcript lengths from tximport\n",
      "\n",
      "estimating size factors\n",
      "\n",
      "using 'avgTxLength' from assays(dds), correcting for library size\n",
      "\n",
      "estimating dispersions\n",
      "\n",
      "gene-wise dispersion estimates\n",
      "\n",
      "mean-dispersion relationship\n",
      "\n",
      "-- note: fitType='parametric', but the dispersion trend was not well captured by the\n",
      "   function: y = a/x + b, and a local regression fit was automatically substituted.\n",
      "   specify fitType='local' or 'mean' to avoid this message next time.\n",
      "\n",
      "final dispersion estimates\n",
      "\n",
      "fitting model and testing\n",
      "\n",
      "7 rows did not converge in beta, labelled in mcols(object)$betaConv. Use larger maxit argument with nbinomWaldTest\n",
      "\n",
      "using 'apeglm' for LFC shrinkage. If used in published research, please cite:\n",
      "    Zhu, A., Ibrahim, J.G., Love, M.I. (2018) Heavy-tailed prior distributions for\n",
      "    sequence count data: removing the noise and preserving large differences.\n",
      "    Bioinformatics. https://doi.org/10.1093/bioinformatics/bty895\n",
      "\n"
     ]
    },
    {
     "name": "stdout",
     "output_type": "stream",
     "text": [
      "\n",
      "out of 17659 with nonzero total read count\n",
      "adjusted p-value < 0.1\n",
      "LFC > 0 (up)       : 2052, 12%\n",
      "LFC < 0 (down)     : 1970, 11%\n",
      "outliers [1]       : 0, 0%\n",
      "low counts [2]     : 343, 1.9%\n",
      "(mean count < 3)\n",
      "[1] see 'cooksCutoff' argument of ?results\n",
      "[2] see 'independentFiltering' argument of ?results\n",
      "\n"
     ]
    }
   ],
   "source": [
    "\n",
    "idx = (metaData$Target %in% c('LNCaP', 'MR49F')) & (metaData$Dataset == 'GSE138460')\n",
    "\n",
    "txi = tximport(fns[idx], type = \"salmon\",tx2gene = tx2gene)\n",
    "\n",
    "dds <- DESeqDataSetFromTximport(txi, metaData[idx,], ~Target)\n",
    "\n",
    "keep <- rowSums(counts(dds)) >= 10\n",
    "dds <- dds[keep,]\n",
    "\n",
    "dds$Target = relevel(dds$Target, ref = \"LNCaP\")\n",
    "\n",
    "dds$Target <- droplevels(dds$Target)\n",
    "\n",
    "dds <- DESeq(dds)\n",
    "\n",
    "resLFC = lfcShrink(dds, coef=\"Target_MR49F_vs_LNCaP\",type=\"apeglm\")\n",
    "summary(resLFC)\n",
    "\n",
    "\n",
    "write.table(file=\"data/rna/deg/GSE138460.tsv\", x=as.data.frame(resLFC), sep=\"\\t\", quote = FALSE)"
   ]
  },
  {
   "cell_type": "code",
   "execution_count": 30,
   "metadata": {
    "vscode": {
     "languageId": "r"
    }
   },
   "outputs": [
    {
     "name": "stderr",
     "output_type": "stream",
     "text": [
      "reading in files with read_tsv\n",
      "\n",
      "1 \n",
      "2 \n",
      "3 \n",
      "4 \n",
      "5 \n",
      "6 \n",
      "7 \n",
      "8 \n",
      "9 \n",
      "10 \n",
      "11 \n",
      "12 \n",
      "\n",
      "\n",
      "summarizing abundance\n",
      "\n",
      "summarizing counts\n",
      "\n",
      "summarizing length\n",
      "\n",
      "using counts and average transcript lengths from tximport\n",
      "\n",
      "estimating size factors\n",
      "\n",
      "using 'avgTxLength' from assays(dds), correcting for library size\n",
      "\n",
      "estimating dispersions\n",
      "\n",
      "gene-wise dispersion estimates\n",
      "\n",
      "mean-dispersion relationship\n",
      "\n",
      "-- note: fitType='parametric', but the dispersion trend was not well captured by the\n",
      "   function: y = a/x + b, and a local regression fit was automatically substituted.\n",
      "   specify fitType='local' or 'mean' to avoid this message next time.\n",
      "\n",
      "final dispersion estimates\n",
      "\n",
      "fitting model and testing\n",
      "\n"
     ]
    }
   ],
   "source": [
    "\n",
    "idx = (metaData$Target %in% c('NT', 'AR', 'SMARCC2sg1', 'SMARCC2sg2'))\n",
    "\n",
    "txi = tximport(fns[idx], type = \"salmon\",tx2gene = tx2gene)\n",
    "\n",
    "dds <- DESeqDataSetFromTximport(txi, metaData[idx,], ~Target)\n",
    "\n",
    "keep <- rowSums(counts(dds)) >= 10\n",
    "dds <- dds[keep,]\n",
    "\n",
    "dds$Target = relevel(dds$Target, ref = \"NT\")\n",
    "\n",
    "dds$Target <- droplevels(dds$Target)\n",
    "\n",
    "dds <- DESeq(dds)\n",
    "\n"
   ]
  },
  {
   "cell_type": "code",
   "execution_count": 33,
   "metadata": {
    "vscode": {
     "languageId": "r"
    }
   },
   "outputs": [],
   "source": [
    "\n",
    "\n",
    "\n",
    "write.table(file=\"data/rna/normalized.tsv\", x=as.data.frame(counts(dds, normalized=TRUE)), sep=\"\\t\", quote = FALSE)"
   ]
  },
  {
   "cell_type": "code",
   "execution_count": 36,
   "metadata": {
    "vscode": {
     "languageId": "r"
    }
   },
   "outputs": [
    {
     "name": "stderr",
     "output_type": "stream",
     "text": [
      "reading in files with read_tsv\n",
      "\n",
      "1 \n",
      "2 \n",
      "3 \n",
      "4 \n",
      "5 \n",
      "6 \n",
      "7 \n",
      "8 \n",
      "9 \n",
      "\n",
      "\n",
      "summarizing abundance\n",
      "\n",
      "summarizing counts\n",
      "\n",
      "summarizing length\n",
      "\n",
      "using counts and average transcript lengths from tximport\n",
      "\n",
      "estimating size factors\n",
      "\n",
      "using 'avgTxLength' from assays(dds), correcting for library size\n",
      "\n",
      "estimating dispersions\n",
      "\n",
      "gene-wise dispersion estimates\n",
      "\n",
      "mean-dispersion relationship\n",
      "\n",
      "-- note: fitType='parametric', but the dispersion trend was not well captured by the\n",
      "   function: y = a/x + b, and a local regression fit was automatically substituted.\n",
      "   specify fitType='local' or 'mean' to avoid this message next time.\n",
      "\n",
      "final dispersion estimates\n",
      "\n",
      "fitting model and testing\n",
      "\n",
      "4 rows did not converge in beta, labelled in mcols(object)$betaConv. Use larger maxit argument with nbinomWaldTest\n",
      "\n",
      "using 'apeglm' for LFC shrinkage. If used in published research, please cite:\n",
      "    Zhu, A., Ibrahim, J.G., Love, M.I. (2018) Heavy-tailed prior distributions for\n",
      "    sequence count data: removing the noise and preserving large differences.\n",
      "    Bioinformatics. https://doi.org/10.1093/bioinformatics/bty895\n",
      "\n"
     ]
    },
    {
     "name": "stdout",
     "output_type": "stream",
     "text": [
      "\n",
      "out of 19927 with nonzero total read count\n",
      "adjusted p-value < 0.1\n",
      "LFC > 0 (up)       : 1141, 5.7%\n",
      "LFC < 0 (down)     : 1151, 5.8%\n",
      "outliers [1]       : 15, 0.075%\n",
      "low counts [2]     : 4243, 21%\n",
      "(mean count < 7)\n",
      "[1] see 'cooksCutoff' argument of ?results\n",
      "[2] see 'independentFiltering' argument of ?results\n",
      "\n"
     ]
    }
   ],
   "source": [
    "\n",
    "idx = (metaData$Target %in% c('NT', 'SMARCC2sg1'))\n",
    "\n",
    "txi = tximport(fns[idx], type = \"salmon\",tx2gene = tx2gene)\n",
    "\n",
    "dds <- DESeqDataSetFromTximport(txi, metaData[idx,], ~Target)\n",
    "\n",
    "keep <- rowSums(counts(dds)) >= 10\n",
    "dds <- dds[keep,]\n",
    "\n",
    "dds$Target = relevel(dds$Target, ref = \"NT\")\n",
    "\n",
    "dds$Target <- droplevels(dds$Target)\n",
    "\n",
    "dds <- DESeq(dds)\n",
    "\n",
    "resLFC = lfcShrink(dds, coef=\"Target_SMARCC2sg1_vs_NT\",type=\"apeglm\")\n",
    "summary(resLFC)\n",
    "\n",
    "\n",
    "write.table(file=\"data/rna/deg/SMARCC2.tsv\", x=as.data.frame(resLFC), sep=\"\\t\", quote = FALSE)"
   ]
  }
 ],
 "metadata": {
  "kernelspec": {
   "display_name": "R",
   "language": "R",
   "name": "ir"
  },
  "language_info": {
   "codemirror_mode": "r",
   "file_extension": ".r",
   "mimetype": "text/x-r-source",
   "name": "R",
   "pygments_lexer": "r",
   "version": "4.1.1"
  },
  "orig_nbformat": 4
 },
 "nbformat": 4,
 "nbformat_minor": 2
}
